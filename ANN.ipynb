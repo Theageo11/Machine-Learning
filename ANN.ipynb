{
 "cells": [
  {
   "cell_type": "markdown",
   "metadata": {},
   "source": [
    "<font size='9'> Problem 3"
   ]
  },
  {
   "cell_type": "code",
   "execution_count": 1,
   "metadata": {},
   "outputs": [
    {
     "name": "stdout",
     "output_type": "stream",
     "text": [
      "A1 : [[0.549834 0.549834]]\n",
      "A2 :  [[0.53866848 0.53866848]]\n"
     ]
    }
   ],
   "source": [
    "## Forward_propagation\n",
    "import numpy as np\n",
    "X=[[1,0],\n",
    "   [0,1]]\n",
    "\n",
    "W1=[[0.1,0.1]]\n",
    "b1=[[0.1]]\n",
    "W2=[[0.1]]\n",
    "b2=[[0.1]]\n",
    "\n",
    "def sigmoid(z):\n",
    "\n",
    "    s = 1/(1+np.exp(-z))\n",
    "    \n",
    "    return s\n",
    "def forward_propagation(X,W1,b1,W2,b2):\n",
    "    Z1 = np.dot(W1,X)+b1\n",
    "    A1 = sigmoid(Z1)\n",
    "    Z2 = np.dot(W2,A1)+b2\n",
    "    A2 = sigmoid(Z2)\n",
    "    \n",
    "    return A1,A2\n",
    "\n",
    "A1,A2=forward_propagation(X,W1,b1,W2,b2)\n",
    "print(\"A1 :\", A1)\n",
    "print(\"A2 : \",A2)"
   ]
  },
  {
   "cell_type": "code",
   "execution_count": 2,
   "metadata": {},
   "outputs": [
    {
     "data": {
      "text/plain": [
       "{'dW1': array([[-0.01609315,  0.01879098]]),\n",
       " 'db1': array([[0.00269783]]),\n",
       " 'dW2': array([[0.02126124]]),\n",
       " 'db2': array([[0.03866848]])}"
      ]
     },
     "execution_count": 2,
     "metadata": {},
     "output_type": "execute_result"
    }
   ],
   "source": [
    "## Backward_propagation\n",
    "b=[1,0]\n",
    "X=np.array([[1,0],\n",
    "   [0,1]])\n",
    "\n",
    "W1=np.array([[0.1,0.1]])\n",
    "b1=np.array([[0.1]])\n",
    "W2=np.array([[0.1]])\n",
    "b2=np.array([[0.1]])\n",
    "def backward_propagation(A1,A2, X, Y):\n",
    "\n",
    "\n",
    "    dZ2 = A2-Y\n",
    "    dW2 = (1/2)*(np.dot(dZ2,A1.T))\n",
    "    db2 = (1 / 2) * np.sum(dZ2, axis=1, keepdims=True)\n",
    "    dZ1 = np.multiply(np.dot(W2.T, dZ2), 1 - np.power(A1, 2))\n",
    "    dW1 = (1 / 2) * np.dot(dZ1, X.T)\n",
    "    db1 = (1 / 2) * np.sum(dZ1, axis=1, keepdims=True)\n",
    "    \n",
    "    grads = {\"dW1\": dW1,\n",
    "             \"db1\": db1,\n",
    "             \"dW2\": dW2,\n",
    "             \"db2\": db2}\n",
    "    \n",
    "    return grads\n",
    "A1,A2=forward_propagation(X,W1,b1,W2,b2)\n",
    "grads=backward_propagation(A1,A2,X,b)\n",
    "grads"
   ]
  },
  {
   "cell_type": "code",
   "execution_count": 3,
   "metadata": {},
   "outputs": [
    {
     "data": {
      "text/plain": [
       "{'W1': array([[0.09951721, 0.10056373]]),\n",
       " 'b1': array([[0.10008093]]),\n",
       " 'W2': array([[0.10063784]]),\n",
       " 'b2': array([[0.10116005]])}"
      ]
     },
     "execution_count": 3,
     "metadata": {},
     "output_type": "execute_result"
    }
   ],
   "source": [
    "## Undate_parameters\n",
    "def update_parameters(W1,b1,W2,b2, grads, learning_rate = 0.3):\n",
    "    \n",
    "    Vdw1=0\n",
    "    Vdb1=0\n",
    "    Vdw2=0\n",
    "    Vdb2=0\n",
    "    \n",
    "    dW1 = grads['dW1']\n",
    "    db1 = grads['db1']\n",
    "    dW2 = grads['dW2']\n",
    "    db2 = grads['db2']\n",
    "    \n",
    "    Vdw1=0.9*Vdw1+0.1*dW1\n",
    "    Vdb1=0.9*Vdb1+0.1*db1\n",
    "    Vdw2=0.9*Vdw2+0.1*dW2\n",
    "    Vdb2=0.9*Vdb2+0.1*db2\n",
    "    \n",
    "    W1 = W1+learning_rate*Vdw1\n",
    "    b1 = b1+learning_rate*Vdb1\n",
    "    W2 = W2+learning_rate*Vdw2\n",
    "    b2 = b2+learning_rate*Vdb2\n",
    "    \n",
    "    parameters = {\"W1\": W1,\n",
    "                  \"b1\": b1,\n",
    "                  \"W2\": W2,\n",
    "                  \"b2\": b2}\n",
    "    \n",
    "    return parameters\n",
    "\n",
    "grads=backward_propagation(A1,A2,X,b)\n",
    "update_parameters(W1,b1,W2,b2, grads, learning_rate = 0.3)"
   ]
  },
  {
   "cell_type": "code",
   "execution_count": null,
   "metadata": {},
   "outputs": [],
   "source": []
  }
 ],
 "metadata": {
  "kernelspec": {
   "display_name": "Python 3",
   "language": "python",
   "name": "python3"
  },
  "language_info": {
   "codemirror_mode": {
    "name": "ipython",
    "version": 3
   },
   "file_extension": ".py",
   "mimetype": "text/x-python",
   "name": "python",
   "nbconvert_exporter": "python",
   "pygments_lexer": "ipython3",
   "version": "3.7.4"
  }
 },
 "nbformat": 4,
 "nbformat_minor": 2
}
